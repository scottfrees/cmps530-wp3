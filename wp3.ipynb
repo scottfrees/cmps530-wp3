{
 "cells": [
  {
   "cell_type": "markdown",
   "metadata": {},
   "source": [
    "# Weekly Project 3\n",
    "Your notebook should not be one giant Python cell.  I recommend the following:\n",
    "1. A cell at the top containing your class definition, and any critical initialization / package installation.\n",
    "2. A cell to load your dictionary of movie objects\n",
    "2. A cell to compute Number of Genres\n",
    "3. A cell to compute Top Rated Tags\n",
    "4. A cell to compute  Frequently Rated Movies"
   ]
  },
  {
   "cell_type": "code",
   "execution_count": 7,
   "metadata": {},
   "outputs": [
    {
     "name": "stdout",
     "output_type": "stream",
     "text": [
      "Collecting package metadata (current_repodata.json): done\n",
      "Solving environment: done\n",
      "\n",
      "# All requested packages already installed.\n",
      "\n"
     ]
    }
   ],
   "source": [
    "import sys\n",
    "!conda install --yes --prefix {sys.prefix} tabulate"
   ]
  },
  {
   "cell_type": "markdown",
   "metadata": {},
   "source": [
    "## Create data types\n",
    "**Important** if you make changes to your data types, you'll need to re-run this cell, and the other cells in order to use the changes within the class."
   ]
  },
  {
   "cell_type": "code",
   "execution_count": 19,
   "metadata": {},
   "outputs": [],
   "source": [
    "# Create some classes and utility functions to be used across all cells.\n",
    "\n",
    "# This is just my hint... a Movie class with a\n",
    "# constructor that accepts a row of the CSV file.\n",
    "# Feel free to remove, or use it as a starter (I've provided\n",
    "# next to no functionality!)\n",
    "i = 0\n",
    "class Movie:\n",
    "    def __init__(self, row):\n",
    "        global i\n",
    "        self.id = i # dummy id just to get started.\n",
    "        i = i+1     # clearly you would use the id \n",
    "                    # in the actual CSV!\n",
    "        self.title = \"Foobar\"\n",
    "        self.year = 2020\n",
    "    def __iter__(self):\n",
    "        return iter([self.id, self.title, self.year])\n",
    "    \n",
    "    "
   ]
  },
  {
   "cell_type": "markdown",
   "metadata": {},
   "source": [
    "## Read in data"
   ]
  },
  {
   "cell_type": "code",
   "execution_count": 20,
   "metadata": {},
   "outputs": [],
   "source": [
    "import csv\n",
    "\n",
    "movies = dict()\n",
    "with open(\"data/movies.csv\", \"r\") as csvfile:\n",
    "    next(csvfile)\n",
    "    movie_reader = csv.reader(csvfile)\n",
    "    for row in movie_reader:\n",
    "        movie = Movie(row)\n",
    "        movies[movie.id] = movie\n",
    "        \n",
    "        "
   ]
  },
  {
   "cell_type": "markdown",
   "metadata": {},
   "source": [
    "# Number of Genres Analysis\n"
   ]
  },
  {
   "cell_type": "markdown",
   "metadata": {},
   "source": [
    "# Top Rated Tags Analysis"
   ]
  },
  {
   "cell_type": "markdown",
   "metadata": {},
   "source": [
    "# Frequently Rated Movies"
   ]
  },
  {
   "cell_type": "markdown",
   "metadata": {},
   "source": [
    "# Sample Output\n",
    "This is just a sample - you can delete this part..."
   ]
  },
  {
   "cell_type": "code",
   "execution_count": 25,
   "metadata": {},
   "outputs": [
    {
     "ename": "TypeError",
     "evalue": "'dict_values' object is not subscriptable",
     "output_type": "error",
     "traceback": [
      "\u001b[0;31m---------------------------------------------------------------------------\u001b[0m",
      "\u001b[0;31mTypeError\u001b[0m                                 Traceback (most recent call last)",
      "\u001b[0;32m<ipython-input-25-380984f030f0>\u001b[0m in \u001b[0;36m<module>\u001b[0;34m\u001b[0m\n\u001b[1;32m      3\u001b[0m \u001b[0;34m\u001b[0m\u001b[0m\n\u001b[1;32m      4\u001b[0m \u001b[0;31m# Just printing the first 20 movies...\u001b[0m\u001b[0;34m\u001b[0m\u001b[0;34m\u001b[0m\u001b[0;34m\u001b[0m\u001b[0m\n\u001b[0;32m----> 5\u001b[0;31m \u001b[0mto_print\u001b[0m \u001b[0;34m=\u001b[0m \u001b[0mmovies\u001b[0m\u001b[0;34m.\u001b[0m\u001b[0mvalues\u001b[0m\u001b[0;34m(\u001b[0m\u001b[0;34m)\u001b[0m\u001b[0;34m[\u001b[0m\u001b[0;34m:\u001b[0m\u001b[0;36m20\u001b[0m\u001b[0;34m]\u001b[0m\u001b[0;34m\u001b[0m\u001b[0;34m\u001b[0m\u001b[0m\n\u001b[0m\u001b[1;32m      6\u001b[0m \u001b[0mprint\u001b[0m\u001b[0;34m(\u001b[0m\u001b[0mto_print\u001b[0m\u001b[0;34m)\u001b[0m\u001b[0;34m\u001b[0m\u001b[0;34m\u001b[0m\u001b[0m\n\u001b[1;32m      7\u001b[0m display(\n",
      "\u001b[0;31mTypeError\u001b[0m: 'dict_values' object is not subscriptable"
     ]
    }
   ],
   "source": [
    "from tabulate import tabulate\n",
    "from IPython.core.display import display, HTML\n",
    "\n",
    "# Just printing the first 20 movies...\n",
    "# the values method returns an iterable, \n",
    "# the comprehension changes it to a list, \n",
    "# which can be subscripted.\n",
    "to_print = [m for m in movies.values()][:20]\n",
    "display(\n",
    "    HTML(tabulate(to_print, \n",
    "                headers=['ID', 'Title', 'Year'], \n",
    "                tablefmt='html')))"
   ]
  },
  {
   "cell_type": "code",
   "execution_count": null,
   "metadata": {},
   "outputs": [],
   "source": []
  }
 ],
 "metadata": {
  "kernelspec": {
   "display_name": "Python 3",
   "language": "python",
   "name": "python3"
  },
  "language_info": {
   "codemirror_mode": {
    "name": "ipython",
    "version": 3
   },
   "file_extension": ".py",
   "mimetype": "text/x-python",
   "name": "python",
   "nbconvert_exporter": "python",
   "pygments_lexer": "ipython3",
   "version": "3.7.7"
  }
 },
 "nbformat": 4,
 "nbformat_minor": 4
}
